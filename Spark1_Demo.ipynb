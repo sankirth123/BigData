{
 "cells": [
  {
   "cell_type": "code",
   "execution_count": 0,
   "metadata": {
    "application/vnd.databricks.v1+cell": {
     "cellMetadata": {
      "byteLimit": 2048000,
      "rowLimit": 10000
     },
     "inputWidgets": {},
     "nuid": "a0e3bccc-82de-48ed-9ada-ddd9337ce494",
     "showTitle": false,
     "tableResultSettingsMap": {},
     "title": ""
    }
   },
   "outputs": [],
   "source": [
    "from pyspark.sql import SparkSession\n"
   ]
  },
  {
   "cell_type": "code",
   "execution_count": 0,
   "metadata": {
    "application/vnd.databricks.v1+cell": {
     "cellMetadata": {
      "byteLimit": 2048000,
      "rowLimit": 10000
     },
     "inputWidgets": {},
     "nuid": "769f758f-e91a-49f7-85a3-f6ee0c966161",
     "showTitle": false,
     "tableResultSettingsMap": {},
     "title": ""
    }
   },
   "outputs": [],
   "source": [
    "from pyspark.sql.functions import col \n"
   ]
  },
  {
   "cell_type": "code",
   "execution_count": 0,
   "metadata": {
    "application/vnd.databricks.v1+cell": {
     "cellMetadata": {
      "byteLimit": 2048000,
      "rowLimit": 10000
     },
     "inputWidgets": {},
     "nuid": "49c726c6-7fca-4a65-94ba-bd4997172002",
     "showTitle": false,
     "tableResultSettingsMap": {},
     "title": ""
    }
   },
   "outputs": [],
   "source": [
    "spark = SparkSession.builder.appName(\"this is my first program in spark\").getOrCreate()"
   ]
  },
  {
   "cell_type": "code",
   "execution_count": 0,
   "metadata": {
    "application/vnd.databricks.v1+cell": {
     "cellMetadata": {
      "byteLimit": 2048000,
      "rowLimit": 10000
     },
     "inputWidgets": {},
     "nuid": "b260107b-aa36-4e60-964e-c461278d9272",
     "showTitle": false,
     "tableResultSettingsMap": {},
     "title": ""
    }
   },
   "outputs": [],
   "source": [
    "data = spark.read.csv(\"dbfs:/FileStore/tables/phone_usage_india_csv_I4xSL__1_.csv\", header=True, inferSchema=True)\n",
    "# Header, inferSchema Gives Column name and Data types"
   ]
  },
  {
   "cell_type": "code",
   "execution_count": 0,
   "metadata": {
    "application/vnd.databricks.v1+cell": {
     "cellMetadata": {
      "byteLimit": 2048000,
      "rowLimit": 10000
     },
     "inputWidgets": {},
     "nuid": "0561490e-f642-451e-b16d-09f6fea49dab",
     "showTitle": false,
     "tableResultSettingsMap": {},
     "title": ""
    }
   },
   "outputs": [
    {
     "output_type": "stream",
     "name": "stdout",
     "output_type": "stream",
     "text": [
      "root\n |-- User ID: string (nullable = true)\n |-- Age: integer (nullable = true)\n |-- Gender: string (nullable = true)\n |-- Location: string (nullable = true)\n |-- Phone Brand: string (nullable = true)\n |-- OS: string (nullable = true)\n |-- Screen Time (hrs/day): double (nullable = true)\n |-- Data Usage (GB/month): double (nullable = true)\n |-- Calls Duration (mins/day): double (nullable = true)\n |-- Number of Apps Installed: integer (nullable = true)\n |-- Social Media Time (hrs/day): double (nullable = true)\n |-- E-commerce Spend (INR/month): integer (nullable = true)\n |-- Streaming Time (hrs/day): double (nullable = true)\n |-- Gaming Time (hrs/day): double (nullable = true)\n |-- Monthly Recharge Cost (INR): integer (nullable = true)\n |-- Primary Use: string (nullable = true)\n\n"
     ]
    }
   ],
   "source": [
    "data.printSchema()\n"
   ]
  },
  {
   "cell_type": "code",
   "execution_count": 0,
   "metadata": {
    "application/vnd.databricks.v1+cell": {
     "cellMetadata": {
      "byteLimit": 2048000,
      "rowLimit": 10000
     },
     "inputWidgets": {},
     "nuid": "96f14ee8-c8cf-46d6-b5ab-cacd18d593ef",
     "showTitle": false,
     "tableResultSettingsMap": {},
     "title": ""
    }
   },
   "outputs": [
    {
     "output_type": "stream",
     "name": "stdout",
     "output_type": "stream",
     "text": [
      "+-------+---+------+---------+------------+-------+---------------------+---------------------+-------------------------+------------------------+---------------------------+----------------------------+------------------------+---------------------+---------------------------+-------------+\n|User ID|Age|Gender| Location| Phone Brand|     OS|Screen Time (hrs/day)|Data Usage (GB/month)|Calls Duration (mins/day)|Number of Apps Installed|Social Media Time (hrs/day)|E-commerce Spend (INR/month)|Streaming Time (hrs/day)|Gaming Time (hrs/day)|Monthly Recharge Cost (INR)|  Primary Use|\n+-------+---+------+---------+------------+-------+---------------------+---------------------+-------------------------+------------------------+---------------------------+----------------------------+------------------------+---------------------+---------------------------+-------------+\n| U00001| 53|  Male|   Mumbai|        Vivo|Android|                  3.7|                 23.9|                     37.9|                     104|                        3.9|                         469|                     5.2|                  4.1|                        803|    Education|\n| U00002| 60| Other|    Delhi|      Realme|    iOS|                  9.2|                 28.1|                     13.7|                     169|                        2.8|                        4997|                     5.1|                  0.4|                       1526|       Gaming|\n| U00003| 37|Female|Ahmedabad|       Nokia|Android|                  4.5|                 12.3|                     66.8|                      96|                        3.0|                        2381|                     1.7|                  2.9|                       1619|Entertainment|\n| U00004| 32|  Male|     Pune|     Samsung|Android|                 11.0|                 25.6|                    156.2|                     146|                        5.2|                        1185|                     3.2|                  0.3|                       1560|Entertainment|\n| U00005| 16|  Male|   Mumbai|      Xiaomi|    iOS|                  2.2|                  2.5|                    236.2|                      86|                        5.5|                         106|                     3.4|                  2.3|                        742| Social Media|\n| U00006| 21|  Male|   Jaipur|        Oppo|    iOS|                  5.4|                 10.6|                    210.6|                      25|                        4.2|                        6285|                     0.6|                  4.8|                       1749|Entertainment|\n| U00007| 57|Female|  Lucknow|       Apple|    iOS|                  6.0|                 35.2|                    154.5|                     123|                        0.8|                        2653|                     2.9|                  2.3|                       1073| Social Media|\n| U00008| 56| Other|  Kolkata|      Realme|    iOS|                  3.1|                 43.5|                    125.3|                     188|                        2.3|                        9767|                     5.2|                  5.0|                       1136|Entertainment|\n| U00009| 46|Female|  Kolkata|        Oppo|Android|                  5.3|                 46.4|                     21.3|                     194|                        3.7|                        2870|                     6.1|                  2.8|                       1253|Entertainment|\n| U00010| 44| Other|  Kolkata|       Apple|    iOS|                  9.9|                 10.6|                    180.2|                      84|                        4.8|                        9193|                     7.6|                  0.4|                        168|    Education|\n| U00011| 55| Other|  Lucknow|       Nokia|Android|                  1.6|                 23.7|                    192.0|                      27|                        3.1|                        9330|                     1.2|                  2.3|                       1098|         Work|\n| U00012| 41|Female|    Delhi|        Oppo|Android|                  7.5|                 23.5|                     84.9|                     187|                        0.9|                         643|                     3.5|                  2.7|                        151| Social Media|\n| U00013| 53|  Male|Bangalore|      Realme|    iOS|                 10.5|                  1.4|                     33.7|                     137|                        4.5|                        7854|                     7.2|                  1.4|                        240|    Education|\n| U00014| 35|  Male|   Jaipur|      Realme|Android|                 10.3|                 32.4|                    247.1|                     124|                        5.2|                        3347|                     3.8|                  4.5|                        972| Social Media|\n| U00015| 33|Female|   Jaipur|     Samsung|    iOS|                  1.7|                 33.2|                    208.8|                     121|                        3.0|                        3185|                     4.2|                  0.5|                       1046|Entertainment|\n| U00016| 52|  Male|Bangalore|Google Pixel|Android|                  5.1|                 28.5|                    169.2|                     161|                        4.6|                        6175|                     4.4|                  4.3|                       1769|         Work|\n| U00017| 46| Other|   Mumbai|       Apple|Android|                  3.1|                 23.6|                    153.9|                     183|                        2.5|                        6242|                     6.2|                  0.4|                       1679|    Education|\n| U00018| 54|  Male|  Kolkata|       Apple|Android|                 11.6|                 12.6|                    210.4|                      62|                        4.9|                        4642|                     0.9|                  4.1|                       1360|Entertainment|\n| U00019| 50|Female|  Chennai|Google Pixel|Android|                  5.3|                  5.2|                    235.6|                     188|                        4.6|                        1120|                     1.0|                  0.8|                       1639|         Work|\n| U00020| 40| Other|Hyderabad|    Motorola|    iOS|                  9.0|                 38.9|                    289.6|                      62|                        2.4|                        8012|                     7.7|                  2.0|                       1224|         Work|\n+-------+---+------+---------+------------+-------+---------------------+---------------------+-------------------------+------------------------+---------------------------+----------------------------+------------------------+---------------------+---------------------------+-------------+\nonly showing top 20 rows\n\n"
     ]
    }
   ],
   "source": [
    "data.show()"
   ]
  },
  {
   "cell_type": "code",
   "execution_count": 0,
   "metadata": {
    "application/vnd.databricks.v1+cell": {
     "cellMetadata": {
      "byteLimit": 2048000,
      "rowLimit": 10000
     },
     "inputWidgets": {},
     "nuid": "5938e686-d818-4004-9271-380c820532a6",
     "showTitle": false,
     "tableResultSettingsMap": {},
     "title": ""
    }
   },
   "outputs": [
    {
     "output_type": "stream",
     "name": "stdout",
     "output_type": "stream",
     "text": [
      "+-------+---+------+---------+-----------+-------+---------------------+---------------------+-------------------------+------------------------+---------------------------+----------------------------+------------------------+---------------------+---------------------------+-------------+\n|User ID|Age|Gender| Location|Phone Brand|     OS|Screen Time (hrs/day)|Data Usage (GB/month)|Calls Duration (mins/day)|Number of Apps Installed|Social Media Time (hrs/day)|E-commerce Spend (INR/month)|Streaming Time (hrs/day)|Gaming Time (hrs/day)|Monthly Recharge Cost (INR)|  Primary Use|\n+-------+---+------+---------+-----------+-------+---------------------+---------------------+-------------------------+------------------------+---------------------------+----------------------------+------------------------+---------------------+---------------------------+-------------+\n| U00001| 53|  Male|   Mumbai|       Vivo|Android|                  3.7|                 23.9|                     37.9|                     104|                        3.9|                         469|                     5.2|                  4.1|                        803|    Education|\n| U00002| 60| Other|    Delhi|     Realme|    iOS|                  9.2|                 28.1|                     13.7|                     169|                        2.8|                        4997|                     5.1|                  0.4|                       1526|       Gaming|\n| U00003| 37|Female|Ahmedabad|      Nokia|Android|                  4.5|                 12.3|                     66.8|                      96|                        3.0|                        2381|                     1.7|                  2.9|                       1619|Entertainment|\n| U00004| 32|  Male|     Pune|    Samsung|Android|                 11.0|                 25.6|                    156.2|                     146|                        5.2|                        1185|                     3.2|                  0.3|                       1560|Entertainment|\n| U00005| 16|  Male|   Mumbai|     Xiaomi|    iOS|                  2.2|                  2.5|                    236.2|                      86|                        5.5|                         106|                     3.4|                  2.3|                        742| Social Media|\n+-------+---+------+---------+-----------+-------+---------------------+---------------------+-------------------------+------------------------+---------------------------+----------------------------+------------------------+---------------------+---------------------------+-------------+\nonly showing top 5 rows\n\n"
     ]
    }
   ],
   "source": [
    "data.show(5)"
   ]
  },
  {
   "cell_type": "code",
   "execution_count": 0,
   "metadata": {
    "application/vnd.databricks.v1+cell": {
     "cellMetadata": {
      "byteLimit": 2048000,
      "rowLimit": 10000
     },
     "inputWidgets": {},
     "nuid": "06cd0b58-7182-4af8-a03b-63d7d24f728f",
     "showTitle": false,
     "tableResultSettingsMap": {},
     "title": ""
    }
   },
   "outputs": [
    {
     "output_type": "execute_result",
     "data": {
      "text/plain": [
       "[Row(User ID='U17682', Age=27, Gender='Other', Location='Mumbai', Phone Brand='Apple', OS='iOS', Screen Time (hrs/day)=7.2, Data Usage (GB/month)=36.6, Calls Duration (mins/day)=90.4, Number of Apps Installed=81, Social Media Time (hrs/day)=5.1, E-commerce Spend (INR/month)=4007, Streaming Time (hrs/day)=3.8, Gaming Time (hrs/day)=3.3, Monthly Recharge Cost (INR)=1380, Primary Use='Entertainment'),\n",
       " Row(User ID='U17683', Age=40, Gender='Female', Location='Chennai', Phone Brand='Oppo', OS='iOS', Screen Time (hrs/day)=9.5, Data Usage (GB/month)=12.9, Calls Duration (mins/day)=243.0, Number of Apps Installed=166, Social Media Time (hrs/day)=4.3, E-commerce Spend (INR/month)=8550, Streaming Time (hrs/day)=3.4, Gaming Time (hrs/day)=0.7, Monthly Recharge Cost (INR)=222, Primary Use='Education'),\n",
       " Row(User ID='U17684', Age=34, Gender='Female', Location='Ahmedabad', Phone Brand='Realme', OS='Android', Screen Time (hrs/day)=1.1, Data Usage (GB/month)=48.9, Calls Duration (mins/day)=74.7, Number of Apps Installed=70, Social Media Time (hrs/day)=5.3, E-commerce Spend (INR/month)=5516, Streaming Time (hrs/day)=0.7, Gaming Time (hrs/day)=4.0, Monthly Recharge Cost (INR)=1612, Primary Use='Entertainment'),\n",
       " Row(User ID='U17685', Age=22, Gender='Male', Location='Hyderabad', Phone Brand='Vivo', OS='Android', Screen Time (hrs/day)=8.8, Data Usage (GB/month)=25.6, Calls Duration (mins/day)=105.6, Number of Apps Installed=96, Social Media Time (hrs/day)=2.4, E-commerce Spend (INR/month)=3614, Streaming Time (hrs/day)=6.6, Gaming Time (hrs/day)=0.8, Monthly Recharge Cost (INR)=1528, Primary Use='Work'),\n",
       " Row(User ID='U17686', Age=43, Gender='Other', Location='Kolkata', Phone Brand='Oppo', OS='iOS', Screen Time (hrs/day)=5.6, Data Usage (GB/month)=22.5, Calls Duration (mins/day)=215.2, Number of Apps Installed=78, Social Media Time (hrs/day)=5.1, E-commerce Spend (INR/month)=5332, Streaming Time (hrs/day)=0.8, Gaming Time (hrs/day)=3.6, Monthly Recharge Cost (INR)=1098, Primary Use='Gaming')]"
      ]
     },
     "execution_count": 275,
     "metadata": {},
     "output_type": "execute_result"
    }
   ],
   "source": [
    "data.tail(5)"
   ]
  },
  {
   "cell_type": "code",
   "execution_count": 0,
   "metadata": {
    "application/vnd.databricks.v1+cell": {
     "cellMetadata": {
      "byteLimit": 2048000,
      "rowLimit": 10000
     },
     "inputWidgets": {},
     "nuid": "4636d3e1-222f-4ee8-bb54-1d4956aa20fe",
     "showTitle": false,
     "tableResultSettingsMap": {},
     "title": ""
    }
   },
   "outputs": [
    {
     "output_type": "execute_result",
     "data": {
      "text/plain": [
       "['User ID',\n",
       " 'Age',\n",
       " 'Gender',\n",
       " 'Location',\n",
       " 'Phone Brand',\n",
       " 'OS',\n",
       " 'Screen Time (hrs/day)',\n",
       " 'Data Usage (GB/month)',\n",
       " 'Calls Duration (mins/day)',\n",
       " 'Number of Apps Installed',\n",
       " 'Social Media Time (hrs/day)',\n",
       " 'E-commerce Spend (INR/month)',\n",
       " 'Streaming Time (hrs/day)',\n",
       " 'Gaming Time (hrs/day)',\n",
       " 'Monthly Recharge Cost (INR)',\n",
       " 'Primary Use']"
      ]
     },
     "execution_count": 276,
     "metadata": {},
     "output_type": "execute_result"
    }
   ],
   "source": [
    "data.columns"
   ]
  },
  {
   "cell_type": "code",
   "execution_count": 0,
   "metadata": {
    "application/vnd.databricks.v1+cell": {
     "cellMetadata": {
      "byteLimit": 2048000,
      "rowLimit": 10000
     },
     "inputWidgets": {},
     "nuid": "c1bf6ab5-1943-477d-916d-3ab05fa9b87f",
     "showTitle": false,
     "tableResultSettingsMap": {},
     "title": ""
    }
   },
   "outputs": [
    {
     "output_type": "execute_result",
     "data": {
      "text/plain": [
       "16"
      ]
     },
     "execution_count": 277,
     "metadata": {},
     "output_type": "execute_result"
    }
   ],
   "source": [
    "len(data.columns)"
   ]
  },
  {
   "cell_type": "code",
   "execution_count": 0,
   "metadata": {
    "application/vnd.databricks.v1+cell": {
     "cellMetadata": {
      "byteLimit": 2048000,
      "rowLimit": 10000
     },
     "inputWidgets": {},
     "nuid": "d9344088-f5e3-4960-961a-13a481c347ed",
     "showTitle": false,
     "tableResultSettingsMap": {},
     "title": ""
    }
   },
   "outputs": [
    {
     "output_type": "execute_result",
     "data": {
      "text/plain": [
       "17686"
      ]
     },
     "execution_count": 278,
     "metadata": {},
     "output_type": "execute_result"
    }
   ],
   "source": [
    "data.count()"
   ]
  },
  {
   "cell_type": "code",
   "execution_count": 0,
   "metadata": {
    "application/vnd.databricks.v1+cell": {
     "cellMetadata": {
      "byteLimit": 2048000,
      "rowLimit": 10000
     },
     "inputWidgets": {},
     "nuid": "ae46e7e1-8822-4c7e-93db-4bc608ea4f24",
     "showTitle": false,
     "tableResultSettingsMap": {},
     "title": ""
    }
   },
   "outputs": [
    {
     "output_type": "execute_result",
     "data": {
      "text/plain": [
       "list"
      ]
     },
     "execution_count": 279,
     "metadata": {},
     "output_type": "execute_result"
    }
   ],
   "source": [
    "type(data.dtypes)"
   ]
  },
  {
   "cell_type": "code",
   "execution_count": 0,
   "metadata": {
    "application/vnd.databricks.v1+cell": {
     "cellMetadata": {
      "byteLimit": 2048000,
      "rowLimit": 10000
     },
     "inputWidgets": {},
     "nuid": "5c09c447-2434-443d-a4ef-61de05bd8303",
     "showTitle": false,
     "tableResultSettingsMap": {},
     "title": ""
    }
   },
   "outputs": [
    {
     "output_type": "stream",
     "name": "stdout",
     "output_type": "stream",
     "text": [
      "User ID = string\nAge = int\nGender = string\nLocation = string\nPhone Brand = string\nOS = string\nScreen Time (hrs/day) = double\nData Usage (GB/month) = double\nCalls Duration (mins/day) = double\nNumber of Apps Installed = int\nSocial Media Time (hrs/day) = double\nE-commerce Spend (INR/month) = int\nStreaming Time (hrs/day) = double\nGaming Time (hrs/day) = double\nMonthly Recharge Cost (INR) = int\nPrimary Use = string\n"
     ]
    }
   ],
   "source": [
    "for columns, dtypes in data.dtypes:\n",
    "    print(f\"{columns} = {dtypes}\")"
   ]
  },
  {
   "cell_type": "code",
   "execution_count": 0,
   "metadata": {
    "application/vnd.databricks.v1+cell": {
     "cellMetadata": {
      "byteLimit": 2048000,
      "rowLimit": 10000
     },
     "inputWidgets": {},
     "nuid": "1c2381a2-3a37-45ab-9ad4-c50744be2b6a",
     "showTitle": false,
     "tableResultSettingsMap": {},
     "title": ""
    }
   },
   "outputs": [
    {
     "output_type": "stream",
     "name": "stdout",
     "output_type": "stream",
     "text": [
      "+-------+-------+------------------+------+---------+-----------+-------+---------------------+---------------------+-------------------------+------------------------+---------------------------+----------------------------+------------------------+---------------------+---------------------------+-----------+\n|summary|User ID|               Age|Gender| Location|Phone Brand|     OS|Screen Time (hrs/day)|Data Usage (GB/month)|Calls Duration (mins/day)|Number of Apps Installed|Social Media Time (hrs/day)|E-commerce Spend (INR/month)|Streaming Time (hrs/day)|Gaming Time (hrs/day)|Monthly Recharge Cost (INR)|Primary Use|\n+-------+-------+------------------+------+---------+-----------+-------+---------------------+---------------------+-------------------------+------------------------+---------------------------+----------------------------+------------------------+---------------------+---------------------------+-----------+\n|  count|  17686|             17686| 17686|    17686|      17686|  17686|                17686|                17686|                    17686|                   17686|                      17686|                       17686|                   17686|                17686|                      17686|      17686|\n|   mean|   NULL| 37.58424742734366|  NULL|     NULL|       NULL|   NULL|    6.546375664367289|   25.411257491801486|        151.4058464322059|      104.58486938821667|         3.2523691055071704|            5075.70784801538|      4.2506163066832565|    2.490874137736062|         1042.7853669569151|       NULL|\n| stddev|   NULL|13.338251788617113|  NULL|     NULL|       NULL|   NULL|   3.1726772356159683|   14.122167498320856|        84.92335325749652|       55.21709697361205|         1.5902230927017802|           2871.604840767319|         2.1556832366318|   1.4460030819356924|          552.5020671416656|       NULL|\n|    min| U00001|                15|Female|Ahmedabad|      Apple|Android|                  1.0|                  1.0|                      5.0|                      10|                        0.5|                         100|                     0.5|                  0.0|                        100|  Education|\n|    max| U17686|                60| Other|     Pune|     Xiaomi|    iOS|                 12.0|                 50.0|                    300.0|                     200|                        6.0|                       10000|                     8.0|                  5.0|                       2000|       Work|\n+-------+-------+------------------+------+---------+-----------+-------+---------------------+---------------------+-------------------------+------------------------+---------------------------+----------------------------+------------------------+---------------------+---------------------------+-----------+\n\n"
     ]
    }
   ],
   "source": [
    "data.describe().show()"
   ]
  },
  {
   "cell_type": "code",
   "execution_count": 0,
   "metadata": {
    "application/vnd.databricks.v1+cell": {
     "cellMetadata": {
      "byteLimit": 2048000,
      "rowLimit": 10000
     },
     "inputWidgets": {},
     "nuid": "26d82990-7430-479f-932c-3010909d008d",
     "showTitle": false,
     "tableResultSettingsMap": {},
     "title": ""
    }
   },
   "outputs": [
    {
     "output_type": "stream",
     "name": "stdout",
     "output_type": "stream",
     "text": [
      "+---+\n|Age|\n+---+\n| 53|\n| 60|\n| 37|\n| 32|\n| 16|\n| 21|\n| 57|\n| 56|\n| 46|\n| 44|\n| 55|\n| 41|\n| 53|\n| 35|\n| 33|\n| 52|\n| 46|\n| 54|\n| 50|\n| 40|\n+---+\nonly showing top 20 rows\n\n"
     ]
    }
   ],
   "source": [
    "age = data.select(\"Age\").show()"
   ]
  },
  {
   "cell_type": "code",
   "execution_count": 0,
   "metadata": {
    "application/vnd.databricks.v1+cell": {
     "cellMetadata": {
      "byteLimit": 2048000,
      "rowLimit": 10000
     },
     "inputWidgets": {},
     "nuid": "6c2f8f19-f3fd-4327-9e02-70d14dca70c6",
     "showTitle": false,
     "tableResultSettingsMap": {},
     "title": ""
    }
   },
   "outputs": [],
   "source": [
    "age = data.select(\"Age\",\"Monthly Recharge Cost (INR)\")"
   ]
  },
  {
   "cell_type": "code",
   "execution_count": 0,
   "metadata": {
    "application/vnd.databricks.v1+cell": {
     "cellMetadata": {
      "byteLimit": 2048000,
      "rowLimit": 10000
     },
     "inputWidgets": {},
     "nuid": "eed17285-be31-4c3c-b242-fdf0e2d3395a",
     "showTitle": false,
     "tableResultSettingsMap": {},
     "title": ""
    }
   },
   "outputs": [
    {
     "output_type": "stream",
     "name": "stdout",
     "output_type": "stream",
     "text": [
      "+---+---------------------------+\n|Age|Monthly Recharge Cost (INR)|\n+---+---------------------------+\n| 53|                        803|\n| 60|                       1526|\n| 37|                       1619|\n| 32|                       1560|\n| 16|                        742|\n| 21|                       1749|\n| 57|                       1073|\n| 56|                       1136|\n| 46|                       1253|\n| 44|                        168|\n| 55|                       1098|\n| 41|                        151|\n| 53|                        240|\n| 35|                        972|\n| 33|                       1046|\n| 52|                       1769|\n| 46|                       1679|\n| 54|                       1360|\n| 50|                       1639|\n| 40|                       1224|\n+---+---------------------------+\nonly showing top 20 rows\n\n"
     ]
    }
   ],
   "source": [
    "age = data.select(\"Age\",\"Monthly Recharge Cost (INR)\").show()"
   ]
  },
  {
   "cell_type": "code",
   "execution_count": 0,
   "metadata": {
    "application/vnd.databricks.v1+cell": {
     "cellMetadata": {
      "byteLimit": 2048000,
      "rowLimit": 10000
     },
     "inputWidgets": {},
     "nuid": "7c740c98-dc03-4f1e-9ec8-5c80d88eaf89",
     "showTitle": false,
     "tableResultSettingsMap": {},
     "title": ""
    }
   },
   "outputs": [
    {
     "output_type": "execute_result",
     "data": {
      "text/plain": [
       "DataFrame[User ID: string, Age: int, Gender: string, Location: string, Phone Brand: string, OS: string, Screen Time (hrs/day): double, Data Usage (GB/month): double, Calls Duration (mins/day): double, Number of Apps Installed: int, Social Media Time (hrs/day): double, E-commerce Spend (INR/month): int, Streaming Time (hrs/day): double, Gaming Time (hrs/day): double, Monthly Recharge Cost (INR): int, Primary Use: string]"
      ]
     },
     "execution_count": 285,
     "metadata": {},
     "output_type": "execute_result"
    }
   ],
   "source": [
    "data\n"
   ]
  },
  {
   "cell_type": "code",
   "execution_count": 0,
   "metadata": {
    "application/vnd.databricks.v1+cell": {
     "cellMetadata": {
      "byteLimit": 2048000,
      "rowLimit": 10000
     },
     "inputWidgets": {},
     "nuid": "f042ee4f-4dfb-4589-a3ec-7eb1431500b3",
     "showTitle": true,
     "tableResultSettingsMap": {},
     "title": ""
    }
   },
   "outputs": [
    {
     "output_type": "stream",
     "name": "stdout",
     "output_type": "stream",
     "text": [
      "+-------+---+------+---------+-----------+-------+---------------------+---------------------+-------------------------+------------------------+---------------------------+----------------------------+------------------------+---------------------+---------------------------+-------------+\n|User ID|Age|Gender| Location|Phone Brand|     OS|Screen Time (hrs/day)|Data Usage (GB/month)|Calls Duration (mins/day)|Number of Apps Installed|Social Media Time (hrs/day)|E-commerce Spend (INR/month)|Streaming Time (hrs/day)|Gaming Time (hrs/day)|Monthly Recharge Cost (INR)|  Primary Use|\n+-------+---+------+---------+-----------+-------+---------------------+---------------------+-------------------------+------------------------+---------------------------+----------------------------+------------------------+---------------------+---------------------------+-------------+\n| U00001| 53|  Male|   Mumbai|       Vivo|Android|                  3.7|                 23.9|                     37.9|                     104|                        3.9|                         469|                     5.2|                  4.1|                        803|    Education|\n| U00002| 60| Other|    Delhi|     Realme|    iOS|                  9.2|                 28.1|                     13.7|                     169|                        2.8|                        4997|                     5.1|                  0.4|                       1526|       Gaming|\n| U00003| 37|Female|Ahmedabad|      Nokia|Android|                  4.5|                 12.3|                     66.8|                      96|                        3.0|                        2381|                     1.7|                  2.9|                       1619|Entertainment|\n| U00004| 32|  Male|     Pune|    Samsung|Android|                 11.0|                 25.6|                    156.2|                     146|                        5.2|                        1185|                     3.2|                  0.3|                       1560|Entertainment|\n| U00005| 16|  Male|   Mumbai|     Xiaomi|    iOS|                  2.2|                  2.5|                    236.2|                      86|                        5.5|                         106|                     3.4|                  2.3|                        742| Social Media|\n+-------+---+------+---------+-----------+-------+---------------------+---------------------+-------------------------+------------------------+---------------------------+----------------------------+------------------------+---------------------+---------------------------+-------------+\nonly showing top 5 rows\n\n"
     ]
    }
   ],
   "source": [
    "data.show(5)"
   ]
  },
  {
   "cell_type": "code",
   "execution_count": 0,
   "metadata": {
    "application/vnd.databricks.v1+cell": {
     "cellMetadata": {
      "byteLimit": 2048000,
      "rowLimit": 10000
     },
     "inputWidgets": {},
     "nuid": "85b51719-4aa4-4393-8b3c-f822cc12bb9a",
     "showTitle": false,
     "tableResultSettingsMap": {},
     "title": ""
    }
   },
   "outputs": [
    {
     "output_type": "execute_result",
     "data": {
      "text/plain": [
       "['User ID',\n",
       " 'Age',\n",
       " 'Gender',\n",
       " 'Location',\n",
       " 'Phone Brand',\n",
       " 'OS',\n",
       " 'Screen Time (hrs/day)',\n",
       " 'Data Usage (GB/month)',\n",
       " 'Calls Duration (mins/day)',\n",
       " 'Number of Apps Installed',\n",
       " 'Social Media Time (hrs/day)',\n",
       " 'E-commerce Spend (INR/month)',\n",
       " 'Streaming Time (hrs/day)',\n",
       " 'Gaming Time (hrs/day)',\n",
       " 'Monthly Recharge Cost (INR)',\n",
       " 'Primary Use']"
      ]
     },
     "execution_count": 287,
     "metadata": {},
     "output_type": "execute_result"
    }
   ],
   "source": [
    "data.columns"
   ]
  },
  {
   "cell_type": "code",
   "execution_count": 0,
   "metadata": {
    "application/vnd.databricks.v1+cell": {
     "cellMetadata": {
      "byteLimit": 2048000,
      "rowLimit": 10000
     },
     "inputWidgets": {},
     "nuid": "6ee26bc6-3e4f-4a3c-9aae-0c2b22206663",
     "showTitle": false,
     "tableResultSettingsMap": {},
     "title": ""
    }
   },
   "outputs": [],
   "source": [
    "data = data.withColumn(\"screen time in minutes\", data['Screen Time (hrs/day)']*60)"
   ]
  },
  {
   "cell_type": "code",
   "execution_count": 0,
   "metadata": {
    "application/vnd.databricks.v1+cell": {
     "cellMetadata": {
      "byteLimit": 2048000,
      "rowLimit": 10000
     },
     "inputWidgets": {},
     "nuid": "ec98c7f8-2bcb-4d49-a8dc-134144d054aa",
     "showTitle": false,
     "tableResultSettingsMap": {},
     "title": ""
    }
   },
   "outputs": [
    {
     "output_type": "execute_result",
     "data": {
      "text/plain": [
       "['User ID',\n",
       " 'Age',\n",
       " 'Gender',\n",
       " 'Location',\n",
       " 'Phone Brand',\n",
       " 'OS',\n",
       " 'Screen Time (hrs/day)',\n",
       " 'Data Usage (GB/month)',\n",
       " 'Calls Duration (mins/day)',\n",
       " 'Number of Apps Installed',\n",
       " 'Social Media Time (hrs/day)',\n",
       " 'E-commerce Spend (INR/month)',\n",
       " 'Streaming Time (hrs/day)',\n",
       " 'Gaming Time (hrs/day)',\n",
       " 'Monthly Recharge Cost (INR)',\n",
       " 'Primary Use',\n",
       " 'screen time in minutes']"
      ]
     },
     "execution_count": 289,
     "metadata": {},
     "output_type": "execute_result"
    }
   ],
   "source": [
    "data.columns"
   ]
  },
  {
   "cell_type": "code",
   "execution_count": 0,
   "metadata": {
    "application/vnd.databricks.v1+cell": {
     "cellMetadata": {
      "byteLimit": 2048000,
      "rowLimit": 10000
     },
     "inputWidgets": {},
     "nuid": "3634ed57-0d06-4326-a59c-19e943eb3423",
     "showTitle": false,
     "tableResultSettingsMap": {},
     "title": ""
    }
   },
   "outputs": [
    {
     "output_type": "stream",
     "name": "stdout",
     "output_type": "stream",
     "text": [
      "+---------------------+----------------------+\n|Screen Time (hrs/day)|screen time in minutes|\n+---------------------+----------------------+\n|                  3.7|                 222.0|\n|                  9.2|                 552.0|\n|                  4.5|                 270.0|\n|                 11.0|                 660.0|\n|                  2.2|                 132.0|\n|                  5.4|                 324.0|\n|                  6.0|                 360.0|\n|                  3.1|                 186.0|\n|                  5.3|                 318.0|\n|                  9.9|                 594.0|\n|                  1.6|                  96.0|\n|                  7.5|                 450.0|\n|                 10.5|                 630.0|\n|                 10.3|                 618.0|\n|                  1.7|                 102.0|\n|                  5.1|                 306.0|\n|                  3.1|                 186.0|\n|                 11.6|                 696.0|\n|                  5.3|                 318.0|\n|                  9.0|                 540.0|\n+---------------------+----------------------+\nonly showing top 20 rows\n\n"
     ]
    }
   ],
   "source": [
    "data.select('Screen Time (hrs/day)','screen time in minutes').show()"
   ]
  },
  {
   "cell_type": "code",
   "execution_count": 0,
   "metadata": {
    "application/vnd.databricks.v1+cell": {
     "cellMetadata": {
      "byteLimit": 2048000,
      "rowLimit": 10000
     },
     "inputWidgets": {},
     "nuid": "b7cb09ae-5eb6-4766-9e5b-90d249bbf20a",
     "showTitle": false,
     "tableResultSettingsMap": {},
     "title": ""
    }
   },
   "outputs": [],
   "source": [
    "data = data.withColumnRenamed(\"Data Usage (GB/month)\",\"Data_Usage\")"
   ]
  },
  {
   "cell_type": "code",
   "execution_count": 0,
   "metadata": {
    "application/vnd.databricks.v1+cell": {
     "cellMetadata": {
      "byteLimit": 2048000,
      "rowLimit": 10000
     },
     "inputWidgets": {},
     "nuid": "87383e52-9f95-439d-a2f7-4db8f9d1e541",
     "showTitle": false,
     "tableResultSettingsMap": {},
     "title": ""
    }
   },
   "outputs": [
    {
     "output_type": "execute_result",
     "data": {
      "text/plain": [
       "['User ID',\n",
       " 'Age',\n",
       " 'Gender',\n",
       " 'Location',\n",
       " 'Phone Brand',\n",
       " 'OS',\n",
       " 'Screen Time (hrs/day)',\n",
       " 'Data_Usage',\n",
       " 'Calls Duration (mins/day)',\n",
       " 'Number of Apps Installed',\n",
       " 'Social Media Time (hrs/day)',\n",
       " 'E-commerce Spend (INR/month)',\n",
       " 'Streaming Time (hrs/day)',\n",
       " 'Gaming Time (hrs/day)',\n",
       " 'Monthly Recharge Cost (INR)',\n",
       " 'Primary Use',\n",
       " 'screen time in minutes']"
      ]
     },
     "execution_count": 292,
     "metadata": {},
     "output_type": "execute_result"
    }
   ],
   "source": [
    "data.columns"
   ]
  },
  {
   "cell_type": "code",
   "execution_count": 0,
   "metadata": {
    "application/vnd.databricks.v1+cell": {
     "cellMetadata": {
      "byteLimit": 2048000,
      "rowLimit": 10000
     },
     "inputWidgets": {},
     "nuid": "f0a99365-3de3-4cd8-9a33-ddf503b26609",
     "showTitle": false,
     "tableResultSettingsMap": {},
     "title": ""
    }
   },
   "outputs": [
    {
     "output_type": "stream",
     "name": "stdout",
     "output_type": "stream",
     "text": [
      "+-------+---+------+---------+------------+-------+---------------------+----------+-------------------------+------------------------+---------------------------+----------------------------+------------------------+---------------------+---------------------------+-------------+----------------------+\n|User ID|Age|Gender| Location| Phone Brand|     OS|Screen Time (hrs/day)|Data_Usage|Calls Duration (mins/day)|Number of Apps Installed|Social Media Time (hrs/day)|E-commerce Spend (INR/month)|Streaming Time (hrs/day)|Gaming Time (hrs/day)|Monthly Recharge Cost (INR)|  Primary Use|screen time in minutes|\n+-------+---+------+---------+------------+-------+---------------------+----------+-------------------------+------------------------+---------------------------+----------------------------+------------------------+---------------------+---------------------------+-------------+----------------------+\n| U00001| 53|  Male|   Mumbai|        Vivo|Android|                  3.7|      23.9|                     37.9|                     104|                        3.9|                         469|                     5.2|                  4.1|                        803|    Education|                 222.0|\n| U00002| 60| Other|    Delhi|      Realme|    iOS|                  9.2|      28.1|                     13.7|                     169|                        2.8|                        4997|                     5.1|                  0.4|                       1526|       Gaming|                 552.0|\n| U00003| 37|Female|Ahmedabad|       Nokia|Android|                  4.5|      12.3|                     66.8|                      96|                        3.0|                        2381|                     1.7|                  2.9|                       1619|Entertainment|                 270.0|\n| U00004| 32|  Male|     Pune|     Samsung|Android|                 11.0|      25.6|                    156.2|                     146|                        5.2|                        1185|                     3.2|                  0.3|                       1560|Entertainment|                 660.0|\n| U00007| 57|Female|  Lucknow|       Apple|    iOS|                  6.0|      35.2|                    154.5|                     123|                        0.8|                        2653|                     2.9|                  2.3|                       1073| Social Media|                 360.0|\n| U00008| 56| Other|  Kolkata|      Realme|    iOS|                  3.1|      43.5|                    125.3|                     188|                        2.3|                        9767|                     5.2|                  5.0|                       1136|Entertainment|                 186.0|\n| U00009| 46|Female|  Kolkata|        Oppo|Android|                  5.3|      46.4|                     21.3|                     194|                        3.7|                        2870|                     6.1|                  2.8|                       1253|Entertainment|                 318.0|\n| U00010| 44| Other|  Kolkata|       Apple|    iOS|                  9.9|      10.6|                    180.2|                      84|                        4.8|                        9193|                     7.6|                  0.4|                        168|    Education|                 594.0|\n| U00011| 55| Other|  Lucknow|       Nokia|Android|                  1.6|      23.7|                    192.0|                      27|                        3.1|                        9330|                     1.2|                  2.3|                       1098|         Work|                  96.0|\n| U00012| 41|Female|    Delhi|        Oppo|Android|                  7.5|      23.5|                     84.9|                     187|                        0.9|                         643|                     3.5|                  2.7|                        151| Social Media|                 450.0|\n| U00013| 53|  Male|Bangalore|      Realme|    iOS|                 10.5|       1.4|                     33.7|                     137|                        4.5|                        7854|                     7.2|                  1.4|                        240|    Education|                 630.0|\n| U00014| 35|  Male|   Jaipur|      Realme|Android|                 10.3|      32.4|                    247.1|                     124|                        5.2|                        3347|                     3.8|                  4.5|                        972| Social Media|                 618.0|\n| U00015| 33|Female|   Jaipur|     Samsung|    iOS|                  1.7|      33.2|                    208.8|                     121|                        3.0|                        3185|                     4.2|                  0.5|                       1046|Entertainment|                 102.0|\n| U00016| 52|  Male|Bangalore|Google Pixel|Android|                  5.1|      28.5|                    169.2|                     161|                        4.6|                        6175|                     4.4|                  4.3|                       1769|         Work|                 306.0|\n| U00017| 46| Other|   Mumbai|       Apple|Android|                  3.1|      23.6|                    153.9|                     183|                        2.5|                        6242|                     6.2|                  0.4|                       1679|    Education|                 186.0|\n| U00018| 54|  Male|  Kolkata|       Apple|Android|                 11.6|      12.6|                    210.4|                      62|                        4.9|                        4642|                     0.9|                  4.1|                       1360|Entertainment|                 696.0|\n| U00019| 50|Female|  Chennai|Google Pixel|Android|                  5.3|       5.2|                    235.6|                     188|                        4.6|                        1120|                     1.0|                  0.8|                       1639|         Work|                 318.0|\n| U00020| 40| Other|Hyderabad|    Motorola|    iOS|                  9.0|      38.9|                    289.6|                      62|                        2.4|                        8012|                     7.7|                  2.0|                       1224|         Work|                 540.0|\n| U00021| 60|  Male|     Pune|     Samsung|    iOS|                 10.4|      46.0|                     38.0|                     110|                        3.0|                         511|                     6.8|                  1.3|                        311| Social Media|                 624.0|\n| U00022| 59| Other|     Pune|      Xiaomi|Android|                 11.7|       9.1|                    203.9|                     101|                        5.8|                        2579|                     2.6|                  4.1|                        446|       Gaming|                 702.0|\n+-------+---+------+---------+------------+-------+---------------------+----------+-------------------------+------------------------+---------------------------+----------------------------+------------------------+---------------------+---------------------------+-------------+----------------------+\nonly showing top 20 rows\n\n"
     ]
    }
   ],
   "source": [
    "Data_age_grt_30 = data.filter(data['Age']>30).show()"
   ]
  },
  {
   "cell_type": "code",
   "execution_count": 0,
   "metadata": {
    "application/vnd.databricks.v1+cell": {
     "cellMetadata": {
      "byteLimit": 2048000,
      "rowLimit": 10000
     },
     "inputWidgets": {},
     "nuid": "51641384-10e2-4db3-852c-fb00340056a6",
     "showTitle": false,
     "tableResultSettingsMap": {},
     "title": ""
    }
   },
   "outputs": [
    {
     "output_type": "execute_result",
     "data": {
      "text/plain": [
       "['User ID',\n",
       " 'Age',\n",
       " 'Gender',\n",
       " 'Location',\n",
       " 'Phone Brand',\n",
       " 'OS',\n",
       " 'Screen Time (hrs/day)',\n",
       " 'Data_Usage',\n",
       " 'Calls Duration (mins/day)',\n",
       " 'Number of Apps Installed',\n",
       " 'Social Media Time (hrs/day)',\n",
       " 'E-commerce Spend (INR/month)',\n",
       " 'Streaming Time (hrs/day)',\n",
       " 'Gaming Time (hrs/day)',\n",
       " 'Monthly Recharge Cost (INR)',\n",
       " 'Primary Use',\n",
       " 'screen time in minutes']"
      ]
     },
     "execution_count": 294,
     "metadata": {},
     "output_type": "execute_result"
    }
   ],
   "source": [
    "data.columns"
   ]
  },
  {
   "cell_type": "code",
   "execution_count": 0,
   "metadata": {
    "application/vnd.databricks.v1+cell": {
     "cellMetadata": {
      "byteLimit": 2048000,
      "rowLimit": 10000
     },
     "inputWidgets": {},
     "nuid": "90573ed5-877d-4ac6-b0f7-b10d5c92aac9",
     "showTitle": false,
     "tableResultSettingsMap": {},
     "title": ""
    }
   },
   "outputs": [
    {
     "output_type": "stream",
     "name": "stdout",
     "output_type": "stream",
     "text": [
      "+-------+---+------+---------+------------+-------+---------------------+----------+-------------------------+------------------------+---------------------------+----------------------------+------------------------+---------------------+---------------------------+-------------+----------------------+\n|User ID|Age|Gender| Location| Phone Brand|     OS|Screen Time (hrs/day)|Data_Usage|Calls Duration (mins/day)|Number of Apps Installed|Social Media Time (hrs/day)|E-commerce Spend (INR/month)|Streaming Time (hrs/day)|Gaming Time (hrs/day)|Monthly Recharge Cost (INR)|  Primary Use|screen time in minutes|\n+-------+---+------+---------+------------+-------+---------------------+----------+-------------------------+------------------------+---------------------------+----------------------------+------------------------+---------------------+---------------------------+-------------+----------------------+\n| U00001| 53|  Male|   Mumbai|        Vivo|Android|                  3.7|      23.9|                     37.9|                     104|                        3.9|                         469|                     5.2|                  4.1|                        803|    Education|                 222.0|\n| U00002| 60| Other|    Delhi|      Realme|    iOS|                  9.2|      28.1|                     13.7|                     169|                        2.8|                        4997|                     5.1|                  0.4|                       1526|       Gaming|                 552.0|\n| U00003| 37|Female|Ahmedabad|       Nokia|Android|                  4.5|      12.3|                     66.8|                      96|                        3.0|                        2381|                     1.7|                  2.9|                       1619|Entertainment|                 270.0|\n| U00004| 32|  Male|     Pune|     Samsung|Android|                 11.0|      25.6|                    156.2|                     146|                        5.2|                        1185|                     3.2|                  0.3|                       1560|Entertainment|                 660.0|\n| U00005| 16|  Male|   Mumbai|      Xiaomi|    iOS|                  2.2|       2.5|                    236.2|                      86|                        5.5|                         106|                     3.4|                  2.3|                        742| Social Media|                 132.0|\n| U00006| 21|  Male|   Jaipur|        Oppo|    iOS|                  5.4|      10.6|                    210.6|                      25|                        4.2|                        6285|                     0.6|                  4.8|                       1749|Entertainment|                 324.0|\n| U00007| 57|Female|  Lucknow|       Apple|    iOS|                  6.0|      35.2|                    154.5|                     123|                        0.8|                        2653|                     2.9|                  2.3|                       1073| Social Media|                 360.0|\n| U00008| 56| Other|  Kolkata|      Realme|    iOS|                  3.1|      43.5|                    125.3|                     188|                        2.3|                        9767|                     5.2|                  5.0|                       1136|Entertainment|                 186.0|\n| U00009| 46|Female|  Kolkata|        Oppo|Android|                  5.3|      46.4|                     21.3|                     194|                        3.7|                        2870|                     6.1|                  2.8|                       1253|Entertainment|                 318.0|\n| U00010| 44| Other|  Kolkata|       Apple|    iOS|                  9.9|      10.6|                    180.2|                      84|                        4.8|                        9193|                     7.6|                  0.4|                        168|    Education|                 594.0|\n| U00011| 55| Other|  Lucknow|       Nokia|Android|                  1.6|      23.7|                    192.0|                      27|                        3.1|                        9330|                     1.2|                  2.3|                       1098|         Work|                  96.0|\n| U00012| 41|Female|    Delhi|        Oppo|Android|                  7.5|      23.5|                     84.9|                     187|                        0.9|                         643|                     3.5|                  2.7|                        151| Social Media|                 450.0|\n| U00013| 53|  Male|Bangalore|      Realme|    iOS|                 10.5|       1.4|                     33.7|                     137|                        4.5|                        7854|                     7.2|                  1.4|                        240|    Education|                 630.0|\n| U00014| 35|  Male|   Jaipur|      Realme|Android|                 10.3|      32.4|                    247.1|                     124|                        5.2|                        3347|                     3.8|                  4.5|                        972| Social Media|                 618.0|\n| U00015| 33|Female|   Jaipur|     Samsung|    iOS|                  1.7|      33.2|                    208.8|                     121|                        3.0|                        3185|                     4.2|                  0.5|                       1046|Entertainment|                 102.0|\n| U00016| 52|  Male|Bangalore|Google Pixel|Android|                  5.1|      28.5|                    169.2|                     161|                        4.6|                        6175|                     4.4|                  4.3|                       1769|         Work|                 306.0|\n| U00017| 46| Other|   Mumbai|       Apple|Android|                  3.1|      23.6|                    153.9|                     183|                        2.5|                        6242|                     6.2|                  0.4|                       1679|    Education|                 186.0|\n| U00018| 54|  Male|  Kolkata|       Apple|Android|                 11.6|      12.6|                    210.4|                      62|                        4.9|                        4642|                     0.9|                  4.1|                       1360|Entertainment|                 696.0|\n| U00019| 50|Female|  Chennai|Google Pixel|Android|                  5.3|       5.2|                    235.6|                     188|                        4.6|                        1120|                     1.0|                  0.8|                       1639|         Work|                 318.0|\n| U00020| 40| Other|Hyderabad|    Motorola|    iOS|                  9.0|      38.9|                    289.6|                      62|                        2.4|                        8012|                     7.7|                  2.0|                       1224|         Work|                 540.0|\n+-------+---+------+---------+------------+-------+---------------------+----------+-------------------------+------------------------+---------------------------+----------------------------+------------------------+---------------------+---------------------------+-------------+----------------------+\nonly showing top 20 rows\n\n"
     ]
    }
   ],
   "source": [
    "data.show()\n"
   ]
  },
  {
   "cell_type": "code",
   "execution_count": 0,
   "metadata": {
    "application/vnd.databricks.v1+cell": {
     "cellMetadata": {
      "byteLimit": 2048000,
      "rowLimit": 10000
     },
     "inputWidgets": {},
     "nuid": "ebd3ae75-d66d-42d4-9c34-56ce89e956da",
     "showTitle": false,
     "tableResultSettingsMap": {},
     "title": ""
    }
   },
   "outputs": [
    {
     "output_type": "execute_result",
     "data": {
      "text/plain": [
       "['User ID',\n",
       " 'Age',\n",
       " 'Gender',\n",
       " 'Location',\n",
       " 'Phone Brand',\n",
       " 'OS',\n",
       " 'Screen Time (hrs/day)',\n",
       " 'Data_Usage',\n",
       " 'Calls Duration (mins/day)',\n",
       " 'Number of Apps Installed',\n",
       " 'Social Media Time (hrs/day)',\n",
       " 'E-commerce Spend (INR/month)',\n",
       " 'Streaming Time (hrs/day)',\n",
       " 'Gaming Time (hrs/day)',\n",
       " 'Monthly Recharge Cost (INR)',\n",
       " 'Primary Use',\n",
       " 'screen time in minutes']"
      ]
     },
     "execution_count": 296,
     "metadata": {},
     "output_type": "execute_result"
    }
   ],
   "source": [
    "data.columns"
   ]
  },
  {
   "cell_type": "code",
   "execution_count": 0,
   "metadata": {
    "application/vnd.databricks.v1+cell": {
     "cellMetadata": {
      "byteLimit": 2048000,
      "rowLimit": 10000
     },
     "inputWidgets": {},
     "nuid": "811ebf2a-0264-455e-8fb5-e33ca63ee8e0",
     "showTitle": false,
     "tableResultSettingsMap": {},
     "title": ""
    }
   },
   "outputs": [
    {
     "output_type": "execute_result",
     "data": {
      "text/plain": [
       "17686"
      ]
     },
     "execution_count": 297,
     "metadata": {},
     "output_type": "execute_result"
    }
   ],
   "source": [
    "data.count()"
   ]
  },
  {
   "cell_type": "code",
   "execution_count": 0,
   "metadata": {
    "application/vnd.databricks.v1+cell": {
     "cellMetadata": {
      "byteLimit": 2048000,
      "rowLimit": 10000
     },
     "inputWidgets": {},
     "nuid": "c0a22f77-66bd-45df-871d-57ca84b02cf4",
     "showTitle": false,
     "tableResultSettingsMap": {},
     "title": ""
    }
   },
   "outputs": [
    {
     "output_type": "execute_result",
     "data": {
      "text/plain": [
       "['User ID',\n",
       " 'Age',\n",
       " 'Gender',\n",
       " 'Location',\n",
       " 'Phone Brand',\n",
       " 'OS',\n",
       " 'Screen Time (hrs/day)',\n",
       " 'Data_Usage',\n",
       " 'Calls Duration (mins/day)',\n",
       " 'Number of Apps Installed',\n",
       " 'Social Media Time (hrs/day)',\n",
       " 'E-commerce Spend (INR/month)',\n",
       " 'Streaming Time (hrs/day)',\n",
       " 'Gaming Time (hrs/day)',\n",
       " 'Monthly Recharge Cost (INR)',\n",
       " 'Primary Use',\n",
       " 'screen time in minutes']"
      ]
     },
     "execution_count": 298,
     "metadata": {},
     "output_type": "execute_result"
    }
   ],
   "source": [
    "data.columns"
   ]
  },
  {
   "cell_type": "code",
   "execution_count": 0,
   "metadata": {
    "application/vnd.databricks.v1+cell": {
     "cellMetadata": {
      "byteLimit": 2048000,
      "rowLimit": 10000
     },
     "inputWidgets": {},
     "nuid": "a44e12f9-de98-4a60-b03c-b8eb841cd1a8",
     "showTitle": false,
     "tableResultSettingsMap": {},
     "title": ""
    }
   },
   "outputs": [
    {
     "output_type": "stream",
     "name": "stdout",
     "output_type": "stream",
     "text": [
      "+---+-------+---------+------+\n|Age|User ID| Location|Gender|\n+---+-------+---------+------+\n| 15| U00593|Hyderabad| Other|\n| 15| U01590|  Chennai| Other|\n| 15| U00623|Bangalore|Female|\n| 15| U00103|   Mumbai| Other|\n| 15| U00641|    Delhi| Other|\n| 15| U00118|   Jaipur| Other|\n| 15| U00684|     Pune|Female|\n| 15| U00249|  Kolkata| Other|\n| 15| U00770|   Mumbai| Other|\n| 15| U00461|  Lucknow|  Male|\n| 15| U00890|     Pune|  Male|\n| 15| U00527|    Delhi| Other|\n| 15| U00958|   Mumbai| Other|\n| 15| U01164|Hyderabad|Female|\n| 15| U01217|   Jaipur| Other|\n| 15| U00027|    Delhi|  Male|\n| 15| U01230|Hyderabad| Other|\n| 15| U00211|  Kolkata| Other|\n| 15| U01262|  Chennai|Female|\n| 15| U00471|    Delhi|  Male|\n+---+-------+---------+------+\nonly showing top 20 rows\n\n"
     ]
    }
   ],
   "source": [
    "data.orderBy(\"Age\" , ascending = True).select(\"Age\",\"User ID\",\"Location\",\"Gender\").show()"
   ]
  },
  {
   "cell_type": "code",
   "execution_count": 0,
   "metadata": {
    "application/vnd.databricks.v1+cell": {
     "cellMetadata": {
      "byteLimit": 2048000,
      "rowLimit": 10000
     },
     "inputWidgets": {},
     "nuid": "65538556-29d3-409b-985b-818bbd779493",
     "showTitle": false,
     "tableResultSettingsMap": {},
     "title": ""
    }
   },
   "outputs": [
    {
     "output_type": "stream",
     "name": "stdout",
     "output_type": "stream",
     "text": [
      "+------------+\n| Phone Brand|\n+------------+\n|        Vivo|\n|      Realme|\n|       Nokia|\n|     Samsung|\n|      Xiaomi|\n|        Oppo|\n|       Apple|\n|      Realme|\n|        Oppo|\n|       Apple|\n|       Nokia|\n|        Oppo|\n|      Realme|\n|      Realme|\n|     Samsung|\n|Google Pixel|\n|       Apple|\n|       Apple|\n|Google Pixel|\n|    Motorola|\n+------------+\nonly showing top 20 rows\n\n"
     ]
    }
   ],
   "source": [
    "data.select(\"Phone Brand\").show()"
   ]
  },
  {
   "cell_type": "code",
   "execution_count": 0,
   "metadata": {
    "application/vnd.databricks.v1+cell": {
     "cellMetadata": {
      "byteLimit": 2048000,
      "rowLimit": 10000
     },
     "inputWidgets": {},
     "nuid": "b5a83f93-92f1-4654-b5ff-3c8ecdef460d",
     "showTitle": false,
     "tableResultSettingsMap": {},
     "title": ""
    }
   },
   "outputs": [
    {
     "output_type": "execute_result",
     "data": {
      "text/plain": [
       "['User ID',\n",
       " 'Age',\n",
       " 'Gender',\n",
       " 'Location',\n",
       " 'Phone Brand',\n",
       " 'OS',\n",
       " 'Screen Time (hrs/day)',\n",
       " 'Data_Usage',\n",
       " 'Calls Duration (mins/day)',\n",
       " 'Number of Apps Installed',\n",
       " 'Social Media Time (hrs/day)',\n",
       " 'E-commerce Spend (INR/month)',\n",
       " 'Streaming Time (hrs/day)',\n",
       " 'Gaming Time (hrs/day)',\n",
       " 'Monthly Recharge Cost (INR)',\n",
       " 'Primary Use',\n",
       " 'screen time in minutes']"
      ]
     },
     "execution_count": 301,
     "metadata": {},
     "output_type": "execute_result"
    }
   ],
   "source": [
    "data.columns"
   ]
  },
  {
   "cell_type": "code",
   "execution_count": 0,
   "metadata": {
    "application/vnd.databricks.v1+cell": {
     "cellMetadata": {
      "byteLimit": 2048000,
      "rowLimit": 10000
     },
     "inputWidgets": {},
     "nuid": "ae8e0156-e292-4f63-933c-f02173b71f30",
     "showTitle": false,
     "tableResultSettingsMap": {},
     "title": ""
    }
   },
   "outputs": [
    {
     "output_type": "execute_result",
     "data": {
      "text/plain": [
       "['User ID',\n",
       " 'Age',\n",
       " 'Gender',\n",
       " 'Location',\n",
       " 'Phone Brand',\n",
       " 'OS',\n",
       " 'Screen Time (hrs/day)',\n",
       " 'Data_Usage',\n",
       " 'Calls Duration (mins/day)',\n",
       " 'Number of Apps Installed',\n",
       " 'Social Media Time (hrs/day)',\n",
       " 'E-commerce Spend (INR/month)',\n",
       " 'Streaming Time (hrs/day)',\n",
       " 'Gaming Time (hrs/day)',\n",
       " 'Monthly Recharge Cost (INR)',\n",
       " 'Primary Use',\n",
       " 'screen time in minutes']"
      ]
     },
     "execution_count": 304,
     "metadata": {},
     "output_type": "execute_result"
    }
   ],
   "source": [
    "data.columns"
   ]
  },
  {
   "cell_type": "code",
   "execution_count": 0,
   "metadata": {
    "application/vnd.databricks.v1+cell": {
     "cellMetadata": {
      "byteLimit": 2048000,
      "rowLimit": 10000
     },
     "inputWidgets": {},
     "nuid": "1b1dbde9-8d10-4891-951c-24f3b705d3bf",
     "showTitle": false,
     "tableResultSettingsMap": {},
     "title": ""
    }
   },
   "outputs": [
    {
     "output_type": "stream",
     "name": "stdout",
     "output_type": "stream",
     "text": [
      "+------------+--------------------------+\n| Phone Brand|avg(Screen Time (hrs/day))|\n+------------+--------------------------+\n|       Nokia|         6.613436123348007|\n|    Motorola|         6.557018054746651|\n|      Realme|         6.635754824063566|\n|      Xiaomi|         6.641874653355516|\n|        Oppo|         6.392948717948725|\n|     Samsung|         6.600963718820852|\n|     OnePlus|         6.545213060320976|\n|        Vivo|         6.511407902058977|\n|       Apple|         6.523042253521117|\n|Google Pixel|         6.432793522267206|\n+------------+--------------------------+\n\n"
     ]
    }
   ],
   "source": [
    "data.groupBy(\"Phone Brand\").avg('Screen Time (hrs/day)').show()"
   ]
  },
  {
   "cell_type": "code",
   "execution_count": 0,
   "metadata": {
    "application/vnd.databricks.v1+cell": {
     "cellMetadata": {
      "byteLimit": 2048000,
      "rowLimit": 10000
     },
     "inputWidgets": {},
     "nuid": "e91de580-04ff-4f22-aff4-4bc7f502dc47",
     "showTitle": false,
     "tableResultSettingsMap": {},
     "title": ""
    }
   },
   "outputs": [
    {
     "output_type": "stream",
     "name": "stdout",
     "output_type": "stream",
     "text": [
      "+------------+--------+\n| Phone Brand|max(Age)|\n+------------+--------+\n|       Nokia|      60|\n|    Motorola|      60|\n|      Realme|      60|\n|      Xiaomi|      60|\n|        Oppo|      60|\n|     Samsung|      60|\n|     OnePlus|      60|\n|        Vivo|      60|\n|       Apple|      60|\n|Google Pixel|      60|\n+------------+--------+\n\n"
     ]
    }
   ],
   "source": [
    "data.groupBy(\"Phone Brand\").max(\"Age\").show()"
   ]
  },
  {
   "cell_type": "code",
   "execution_count": 0,
   "metadata": {
    "application/vnd.databricks.v1+cell": {
     "cellMetadata": {
      "byteLimit": 2048000,
      "rowLimit": 10000
     },
     "inputWidgets": {},
     "nuid": "2c059104-9181-496f-a819-d26eb4e53367",
     "showTitle": false,
     "tableResultSettingsMap": {},
     "title": ""
    }
   },
   "outputs": [
    {
     "output_type": "stream",
     "name": "stdout",
     "output_type": "stream",
     "text": [
      "+------+-----+\n|Gender|count|\n+------+-----+\n|Female| 5969|\n| Other| 5892|\n|  Male| 5825|\n+------+-----+\n\n"
     ]
    }
   ],
   "source": [
    "data.groupBy(\"Gender\").count().show()"
   ]
  },
  {
   "cell_type": "code",
   "execution_count": 0,
   "metadata": {
    "application/vnd.databricks.v1+cell": {
     "cellMetadata": {
      "byteLimit": 2048000,
      "rowLimit": 10000
     },
     "inputWidgets": {},
     "nuid": "1e57295d-61fa-47c2-b2fa-41123119463b",
     "showTitle": false,
     "tableResultSettingsMap": {},
     "title": ""
    }
   },
   "outputs": [
    {
     "output_type": "stream",
     "name": "stdout",
     "output_type": "stream",
     "text": [
      "+------+------------------+\n|Gender|   avg(Data_Usage)|\n+------+------------------+\n|Female|25.447026302563238|\n| Other| 25.43238289205704|\n|  Male|25.353236051502158|\n+------+------------------+\n\n"
     ]
    }
   ],
   "source": [
    "data.groupBy(\"Gender\").agg({\"Data_Usage\":\"avg\"}).show()"
   ]
  },
  {
   "cell_type": "code",
   "execution_count": 0,
   "metadata": {
    "application/vnd.databricks.v1+cell": {
     "cellMetadata": {
      "byteLimit": 2048000,
      "rowLimit": 10000
     },
     "inputWidgets": {},
     "nuid": "918b8b01-61b3-460f-9850-0ba93247531b",
     "showTitle": false,
     "tableResultSettingsMap": {},
     "title": ""
    }
   },
   "outputs": [
    {
     "output_type": "execute_result",
     "data": {
      "text/plain": [
       "<bound method DataFrame.show of DataFrame[Gender: string, avg(Data_Usage): double]>"
      ]
     },
     "execution_count": 316,
     "metadata": {},
     "output_type": "execute_result"
    }
   ],
   "source": [
    "data.groupBy(\"Gender\").agg({\"Data_Usage\":\"avg\"}).filter('avg(Data_Usage) > 25.36').show\n",
    "# Using the Filter function to verify whioch gender using much"
   ]
  },
  {
   "cell_type": "code",
   "execution_count": 0,
   "metadata": {
    "application/vnd.databricks.v1+cell": {
     "cellMetadata": {
      "byteLimit": 2048000,
      "rowLimit": 10000
     },
     "inputWidgets": {},
     "nuid": "7a540abc-c700-4dd1-87b1-701e391adfc1",
     "showTitle": false,
     "tableResultSettingsMap": {},
     "title": ""
    }
   },
   "outputs": [
    {
     "output_type": "stream",
     "name": "stdout",
     "output_type": "stream",
     "text": [
      "+-------+---+------+---------+-----------+-------+---------------------+----------+-------------------------+------------------------+---------------------------+----------------------------+------------------------+---------------------+---------------------------+-------------+----------------------+\n|User ID|Age|Gender| Location|Phone Brand|     OS|Screen Time (hrs/day)|Data_Usage|Calls Duration (mins/day)|Number of Apps Installed|Social Media Time (hrs/day)|E-commerce Spend (INR/month)|Streaming Time (hrs/day)|Gaming Time (hrs/day)|Monthly Recharge Cost (INR)|  Primary Use|screen time in minutes|\n+-------+---+------+---------+-----------+-------+---------------------+----------+-------------------------+------------------------+---------------------------+----------------------------+------------------------+---------------------+---------------------------+-------------+----------------------+\n| U00001| 53|  Male|   Mumbai|       Vivo|Android|                  3.7|      23.9|                     37.9|                     104|                        3.9|                         469|                     5.2|                  4.1|                        803|    Education|                 222.0|\n| U00002| 60| Other|    Delhi|     Realme|    iOS|                  9.2|      28.1|                     13.7|                     169|                        2.8|                        4997|                     5.1|                  0.4|                       1526|       Gaming|                 552.0|\n| U00003| 37|Female|Ahmedabad|      Nokia|Android|                  4.5|      12.3|                     66.8|                      96|                        3.0|                        2381|                     1.7|                  2.9|                       1619|Entertainment|                 270.0|\n| U00004| 32|  Male|     Pune|    Samsung|Android|                 11.0|      25.6|                    156.2|                     146|                        5.2|                        1185|                     3.2|                  0.3|                       1560|Entertainment|                 660.0|\n| U00005| 16|  Male|   Mumbai|     Xiaomi|    iOS|                  2.2|       2.5|                    236.2|                      86|                        5.5|                         106|                     3.4|                  2.3|                        742| Social Media|                 132.0|\n+-------+---+------+---------+-----------+-------+---------------------+----------+-------------------------+------------------------+---------------------------+----------------------------+------------------------+---------------------+---------------------------+-------------+----------------------+\nonly showing top 5 rows\n\n"
     ]
    }
   ],
   "source": [
    "data.show(5)\n"
   ]
  },
  {
   "cell_type": "code",
   "execution_count": 0,
   "metadata": {
    "application/vnd.databricks.v1+cell": {
     "cellMetadata": {
      "byteLimit": 2048000,
      "rowLimit": 10000
     },
     "inputWidgets": {},
     "nuid": "f4a7982e-833b-45c3-a9d7-20f334daf137",
     "showTitle": false,
     "tableResultSettingsMap": {},
     "title": ""
    }
   },
   "outputs": [
    {
     "output_type": "stream",
     "name": "stdout",
     "output_type": "stream",
     "text": [
      "+-------+-----+\n|     OS|count|\n+-------+-----+\n|    iOS| 8835|\n|Android| 8851|\n+-------+-----+\n\n"
     ]
    }
   ],
   "source": [
    "data.groupBy('OS').count().show()"
   ]
  },
  {
   "cell_type": "code",
   "execution_count": 0,
   "metadata": {
    "application/vnd.databricks.v1+cell": {
     "cellMetadata": {
      "byteLimit": 2048000,
      "rowLimit": 10000
     },
     "inputWidgets": {},
     "nuid": "3ba90cc3-918b-4f6d-8479-7087dd1b1bf4",
     "showTitle": false,
     "tableResultSettingsMap": {},
     "title": ""
    }
   },
   "outputs": [
    {
     "output_type": "execute_result",
     "data": {
      "text/plain": [
       "['User ID',\n",
       " 'Age',\n",
       " 'Gender',\n",
       " 'Location',\n",
       " 'Phone Brand',\n",
       " 'OS',\n",
       " 'Screen Time (hrs/day)',\n",
       " 'Data_Usage',\n",
       " 'Calls Duration (mins/day)',\n",
       " 'Number of Apps Installed',\n",
       " 'Social Media Time (hrs/day)',\n",
       " 'E-commerce Spend (INR/month)',\n",
       " 'Streaming Time (hrs/day)',\n",
       " 'Gaming Time (hrs/day)',\n",
       " 'Monthly Recharge Cost (INR)',\n",
       " 'Primary Use',\n",
       " 'screen time in minutes']"
      ]
     },
     "execution_count": 322,
     "metadata": {},
     "output_type": "execute_result"
    }
   ],
   "source": [
    "data.columns"
   ]
  },
  {
   "cell_type": "code",
   "execution_count": 0,
   "metadata": {
    "application/vnd.databricks.v1+cell": {
     "cellMetadata": {
      "byteLimit": 2048000,
      "rowLimit": 10000
     },
     "inputWidgets": {},
     "nuid": "b9dbb0c6-9107-4d7a-a74e-6cf52db24af9",
     "showTitle": false,
     "tableResultSettingsMap": {},
     "title": ""
    }
   },
   "outputs": [
    {
     "output_type": "stream",
     "name": "stdout",
     "output_type": "stream",
     "text": [
      "+-------+--------------------------+------------------+\n|     OS|sum(Screen Time (hrs/day))|   avg(Data_Usage)|\n+-------+--------------------------+------------------+\n|    iOS|        57711.800000000156|25.262954159592535|\n|Android|         58067.40000000017| 25.55929273528403|\n+-------+--------------------------+------------------+\n\n"
     ]
    }
   ],
   "source": [
    "data.groupBy('OS').agg({\"Screen Time (hrs/day)\":\"sum\",\"Data_Usage\":\"avg\"}).show()"
   ]
  },
  {
   "cell_type": "code",
   "execution_count": 0,
   "metadata": {
    "application/vnd.databricks.v1+cell": {
     "cellMetadata": {
      "byteLimit": 2048000,
      "rowLimit": 10000
     },
     "inputWidgets": {},
     "nuid": "e4c2bf4b-f274-45c9-8469-f67978fb7fad",
     "showTitle": true,
     "tableResultSettingsMap": {},
     "title": ""
    }
   },
   "outputs": [
    {
     "output_type": "display_data",
     "data": {
      "text/plain": [
       "\u001B[0;31m---------------------------------------------------------------------------\u001B[0m\n",
       "\u001B[0;31mNameError\u001B[0m                                 Traceback (most recent call last)\n",
       "File \u001B[0;32m<command-4378495011846694>, line 1\u001B[0m\n",
       "\u001B[0;32m----> 1\u001B[0m data\u001B[38;5;241m.\u001B[39mwithColumn(\u001B[38;5;124m\"\u001B[39m\u001B[38;5;124mnew col\u001B[39m\u001B[38;5;124m\"\u001B[39m , concate(data[\u001B[38;5;124m'\u001B[39m\u001B[38;5;124mUser ID\u001B[39m\u001B[38;5;124m'\u001B[39m],data[\u001B[38;5;124m'\u001B[39m\u001B[38;5;124mGender\u001B[39m\u001B[38;5;124m'\u001B[39m]))\u001B[38;5;241m.\u001B[39mshow()\n",
       "\n",
       "\u001B[0;31mNameError\u001B[0m: name 'concate' is not defined"
      ]
     },
     "metadata": {
      "application/vnd.databricks.v1+output": {
       "addedWidgets": {},
       "arguments": {},
       "datasetInfos": [],
       "jupyterProps": {
        "ename": "NameError",
        "evalue": "name 'concate' is not defined"
       },
       "metadata": {
        "errorSummary": "<span class='ansi-red-fg'>NameError</span>: name 'concate' is not defined"
       },
       "removedWidgets": [],
       "sqlProps": null,
       "stackFrames": [
        "\u001B[0;31m---------------------------------------------------------------------------\u001B[0m",
        "\u001B[0;31mNameError\u001B[0m                                 Traceback (most recent call last)",
        "File \u001B[0;32m<command-4378495011846694>, line 1\u001B[0m\n\u001B[0;32m----> 1\u001B[0m data\u001B[38;5;241m.\u001B[39mwithColumn(\u001B[38;5;124m\"\u001B[39m\u001B[38;5;124mnew col\u001B[39m\u001B[38;5;124m\"\u001B[39m , concate(data[\u001B[38;5;124m'\u001B[39m\u001B[38;5;124mUser ID\u001B[39m\u001B[38;5;124m'\u001B[39m],data[\u001B[38;5;124m'\u001B[39m\u001B[38;5;124mGender\u001B[39m\u001B[38;5;124m'\u001B[39m]))\u001B[38;5;241m.\u001B[39mshow()\n",
        "\u001B[0;31mNameError\u001B[0m: name 'concate' is not defined"
       ],
       "type": "baseError"
      }
     },
     "output_type": "display_data"
    }
   ],
   "source": []
  },
  {
   "cell_type": "code",
   "execution_count": 0,
   "metadata": {
    "application/vnd.databricks.v1+cell": {
     "cellMetadata": {
      "byteLimit": 2048000,
      "rowLimit": 10000
     },
     "inputWidgets": {},
     "nuid": "8b433693-fa4f-48f6-9c70-a00de97954d6",
     "showTitle": false,
     "tableResultSettingsMap": {},
     "title": ""
    }
   },
   "outputs": [],
   "source": [
    "from pyspark.sql.functions import current_date, current_timestamp, date_add, date_sub"
   ]
  },
  {
   "cell_type": "code",
   "execution_count": 0,
   "metadata": {
    "application/vnd.databricks.v1+cell": {
     "cellMetadata": {
      "byteLimit": 2048000,
      "rowLimit": 10000
     },
     "inputWidgets": {},
     "nuid": "c626a5ab-63c2-46eb-b541-acac84c7a35f",
     "showTitle": false,
     "tableResultSettingsMap": {},
     "title": ""
    }
   },
   "outputs": [
    {
     "output_type": "execute_result",
     "data": {
      "text/plain": [
       "<function pyspark.sql.functions.builtin.current_date() -> pyspark.sql.column.Column>"
      ]
     },
     "execution_count": 329,
     "metadata": {},
     "output_type": "execute_result"
    }
   ],
   "source": [
    "current_date"
   ]
  },
  {
   "cell_type": "code",
   "execution_count": 0,
   "metadata": {
    "application/vnd.databricks.v1+cell": {
     "cellMetadata": {
      "byteLimit": 2048000,
      "rowLimit": 10000
     },
     "inputWidgets": {},
     "nuid": "604b880b-b1f2-4bf8-b1dc-4e9f747d20f8",
     "showTitle": false,
     "tableResultSettingsMap": {},
     "title": ""
    }
   },
   "outputs": [
    {
     "output_type": "stream",
     "name": "stdout",
     "output_type": "stream",
     "text": [
      "+-------+---+------+---------+------------+-------+---------------------+----------+-------------------------+------------------------+---------------------------+----------------------------+------------------------+---------------------+---------------------------+-------------+----------------------+-------------------------------------+\n|User ID|Age|Gender| Location| Phone Brand|     OS|Screen Time (hrs/day)|Data_Usage|Calls Duration (mins/day)|Number of Apps Installed|Social Media Time (hrs/day)|E-commerce Spend (INR/month)|Streaming Time (hrs/day)|Gaming Time (hrs/day)|Monthly Recharge Cost (INR)|  Primary Use|screen time in minutes|current data or my databricks cluster|\n+-------+---+------+---------+------------+-------+---------------------+----------+-------------------------+------------------------+---------------------------+----------------------------+------------------------+---------------------+---------------------------+-------------+----------------------+-------------------------------------+\n| U00001| 53|  Male|   Mumbai|        Vivo|Android|                  3.7|      23.9|                     37.9|                     104|                        3.9|                         469|                     5.2|                  4.1|                        803|    Education|                 222.0|                           2025-05-31|\n| U00002| 60| Other|    Delhi|      Realme|    iOS|                  9.2|      28.1|                     13.7|                     169|                        2.8|                        4997|                     5.1|                  0.4|                       1526|       Gaming|                 552.0|                           2025-05-31|\n| U00003| 37|Female|Ahmedabad|       Nokia|Android|                  4.5|      12.3|                     66.8|                      96|                        3.0|                        2381|                     1.7|                  2.9|                       1619|Entertainment|                 270.0|                           2025-05-31|\n| U00004| 32|  Male|     Pune|     Samsung|Android|                 11.0|      25.6|                    156.2|                     146|                        5.2|                        1185|                     3.2|                  0.3|                       1560|Entertainment|                 660.0|                           2025-05-31|\n| U00005| 16|  Male|   Mumbai|      Xiaomi|    iOS|                  2.2|       2.5|                    236.2|                      86|                        5.5|                         106|                     3.4|                  2.3|                        742| Social Media|                 132.0|                           2025-05-31|\n| U00006| 21|  Male|   Jaipur|        Oppo|    iOS|                  5.4|      10.6|                    210.6|                      25|                        4.2|                        6285|                     0.6|                  4.8|                       1749|Entertainment|                 324.0|                           2025-05-31|\n| U00007| 57|Female|  Lucknow|       Apple|    iOS|                  6.0|      35.2|                    154.5|                     123|                        0.8|                        2653|                     2.9|                  2.3|                       1073| Social Media|                 360.0|                           2025-05-31|\n| U00008| 56| Other|  Kolkata|      Realme|    iOS|                  3.1|      43.5|                    125.3|                     188|                        2.3|                        9767|                     5.2|                  5.0|                       1136|Entertainment|                 186.0|                           2025-05-31|\n| U00009| 46|Female|  Kolkata|        Oppo|Android|                  5.3|      46.4|                     21.3|                     194|                        3.7|                        2870|                     6.1|                  2.8|                       1253|Entertainment|                 318.0|                           2025-05-31|\n| U00010| 44| Other|  Kolkata|       Apple|    iOS|                  9.9|      10.6|                    180.2|                      84|                        4.8|                        9193|                     7.6|                  0.4|                        168|    Education|                 594.0|                           2025-05-31|\n| U00011| 55| Other|  Lucknow|       Nokia|Android|                  1.6|      23.7|                    192.0|                      27|                        3.1|                        9330|                     1.2|                  2.3|                       1098|         Work|                  96.0|                           2025-05-31|\n| U00012| 41|Female|    Delhi|        Oppo|Android|                  7.5|      23.5|                     84.9|                     187|                        0.9|                         643|                     3.5|                  2.7|                        151| Social Media|                 450.0|                           2025-05-31|\n| U00013| 53|  Male|Bangalore|      Realme|    iOS|                 10.5|       1.4|                     33.7|                     137|                        4.5|                        7854|                     7.2|                  1.4|                        240|    Education|                 630.0|                           2025-05-31|\n| U00014| 35|  Male|   Jaipur|      Realme|Android|                 10.3|      32.4|                    247.1|                     124|                        5.2|                        3347|                     3.8|                  4.5|                        972| Social Media|                 618.0|                           2025-05-31|\n| U00015| 33|Female|   Jaipur|     Samsung|    iOS|                  1.7|      33.2|                    208.8|                     121|                        3.0|                        3185|                     4.2|                  0.5|                       1046|Entertainment|                 102.0|                           2025-05-31|\n| U00016| 52|  Male|Bangalore|Google Pixel|Android|                  5.1|      28.5|                    169.2|                     161|                        4.6|                        6175|                     4.4|                  4.3|                       1769|         Work|                 306.0|                           2025-05-31|\n| U00017| 46| Other|   Mumbai|       Apple|Android|                  3.1|      23.6|                    153.9|                     183|                        2.5|                        6242|                     6.2|                  0.4|                       1679|    Education|                 186.0|                           2025-05-31|\n| U00018| 54|  Male|  Kolkata|       Apple|Android|                 11.6|      12.6|                    210.4|                      62|                        4.9|                        4642|                     0.9|                  4.1|                       1360|Entertainment|                 696.0|                           2025-05-31|\n| U00019| 50|Female|  Chennai|Google Pixel|Android|                  5.3|       5.2|                    235.6|                     188|                        4.6|                        1120|                     1.0|                  0.8|                       1639|         Work|                 318.0|                           2025-05-31|\n| U00020| 40| Other|Hyderabad|    Motorola|    iOS|                  9.0|      38.9|                    289.6|                      62|                        2.4|                        8012|                     7.7|                  2.0|                       1224|         Work|                 540.0|                           2025-05-31|\n+-------+---+------+---------+------------+-------+---------------------+----------+-------------------------+------------------------+---------------------------+----------------------------+------------------------+---------------------+---------------------------+-------------+----------------------+-------------------------------------+\nonly showing top 20 rows\n\n"
     ]
    }
   ],
   "source": [
    "data.withColumn(\"current data or my databricks cluster\" , current_date()).show()"
   ]
  },
  {
   "cell_type": "code",
   "execution_count": 0,
   "metadata": {
    "application/vnd.databricks.v1+cell": {
     "cellMetadata": {
      "byteLimit": 2048000,
      "rowLimit": 10000
     },
     "inputWidgets": {},
     "nuid": "08204b1a-c3c2-44b0-a82d-816405807285",
     "showTitle": false,
     "tableResultSettingsMap": {},
     "title": ""
    }
   },
   "outputs": [
    {
     "output_type": "stream",
     "name": "stdout",
     "output_type": "stream",
     "text": [
      "+-----------+\n|Future_date|\n+-----------+\n| 2025-06-10|\n| 2025-06-10|\n| 2025-06-10|\n| 2025-06-10|\n| 2025-06-10|\n| 2025-06-10|\n| 2025-06-10|\n| 2025-06-10|\n| 2025-06-10|\n| 2025-06-10|\n| 2025-06-10|\n| 2025-06-10|\n| 2025-06-10|\n| 2025-06-10|\n| 2025-06-10|\n| 2025-06-10|\n| 2025-06-10|\n| 2025-06-10|\n| 2025-06-10|\n| 2025-06-10|\n+-----------+\nonly showing top 20 rows\n\n"
     ]
    }
   ],
   "source": [
    "data.withColumn(\"Future_date\" , date_add(current_date(), 10)).select(\"Future_date\").show()"
   ]
  }
 ],
 "metadata": {
  "application/vnd.databricks.v1+notebook": {
   "computePreferences": null,
   "dashboards": [],
   "environmentMetadata": {
    "base_environment": "",
    "environment_version": "1"
   },
   "inputWidgetPreferences": null,
   "language": "python",
   "notebookMetadata": {
    "pythonIndentUnit": 4
   },
   "notebookName": "Spark1_Demo",
   "widgets": {}
  }
 },
 "nbformat": 4,
 "nbformat_minor": 0
}